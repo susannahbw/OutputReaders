{
 "cells": [
  {
   "cell_type": "code",
   "execution_count": 1,
   "id": "f97326a4",
   "metadata": {},
   "outputs": [],
   "source": [
    "import numpy as np\n",
    "\n",
    "import sys  \n",
    "sys.path.insert(0, '..')\n",
    "\n",
    "from Gaussian import FreqOutputFile as ffile"
   ]
  },
  {
   "cell_type": "code",
   "execution_count": 2,
   "id": "df5a13c4",
   "metadata": {},
   "outputs": [],
   "source": [
    "test = ffile('GA_freq.log')\n",
    "test.read_vib_modes()"
   ]
  },
  {
   "cell_type": "code",
   "execution_count": 3,
   "id": "f936f0c1",
   "metadata": {},
   "outputs": [
    {
     "data": {
      "text/plain": [
       "<Gaussian.FreqOutputFile at 0x129b01d80>"
      ]
     },
     "execution_count": 3,
     "metadata": {},
     "output_type": "execute_result"
    }
   ],
   "source": [
    "test"
   ]
  },
  {
   "cell_type": "code",
   "execution_count": 4,
   "id": "a535fced",
   "metadata": {},
   "outputs": [
    {
     "name": "stdout",
     "output_type": "stream",
     "text": [
      "filepath\n",
      "n_atoms\n",
      "n_vib_dof\n",
      "point_group\n",
      "vib_modes\n"
     ]
    }
   ],
   "source": [
    "for i in test.__dict__.keys():\n",
    "    print(i)"
   ]
  },
  {
   "cell_type": "code",
   "execution_count": 5,
   "id": "03c1b956",
   "metadata": {},
   "outputs": [
    {
     "data": {
      "text/plain": [
       "'GA_freq.log'"
      ]
     },
     "execution_count": 5,
     "metadata": {},
     "output_type": "execute_result"
    }
   ],
   "source": [
    "test.filepath"
   ]
  },
  {
   "cell_type": "code",
   "execution_count": 6,
   "id": "3beb6a5d",
   "metadata": {},
   "outputs": [
    {
     "data": {
      "text/plain": [
       "True"
      ]
     },
     "execution_count": 6,
     "metadata": {},
     "output_type": "execute_result"
    }
   ],
   "source": [
    "test.n_atoms == 7"
   ]
  },
  {
   "cell_type": "code",
   "execution_count": 7,
   "id": "2edacef4",
   "metadata": {},
   "outputs": [
    {
     "data": {
      "text/plain": [
       "True"
      ]
     },
     "execution_count": 7,
     "metadata": {},
     "output_type": "execute_result"
    }
   ],
   "source": [
    "test.n_vib_dof == 15"
   ]
  },
  {
   "cell_type": "code",
   "execution_count": 8,
   "id": "568671db",
   "metadata": {},
   "outputs": [
    {
     "data": {
      "text/plain": [
       "True"
      ]
     },
     "execution_count": 8,
     "metadata": {},
     "output_type": "execute_result"
    }
   ],
   "source": [
    "test.point_group == 'CS'"
   ]
  },
  {
   "cell_type": "code",
   "execution_count": 9,
   "id": "fd7b4569",
   "metadata": {},
   "outputs": [
    {
     "data": {
      "text/plain": [
       "True"
      ]
     },
     "execution_count": 9,
     "metadata": {},
     "output_type": "execute_result"
    }
   ],
   "source": [
    "len(test.vib_modes) == 15"
   ]
  },
  {
   "cell_type": "code",
   "execution_count": 10,
   "id": "7072ebf1",
   "metadata": {},
   "outputs": [
    {
     "data": {
      "text/plain": [
       "True"
      ]
     },
     "execution_count": 10,
     "metadata": {},
     "output_type": "execute_result"
    }
   ],
   "source": [
    "test.vib_modes[0].symmetry == 'A\"'"
   ]
  },
  {
   "cell_type": "code",
   "execution_count": 11,
   "id": "9c69c4d1",
   "metadata": {},
   "outputs": [
    {
     "data": {
      "text/plain": [
       "True"
      ]
     },
     "execution_count": 11,
     "metadata": {},
     "output_type": "execute_result"
    }
   ],
   "source": [
    "test.vib_modes[1].symmetry == \"A'\""
   ]
  },
  {
   "cell_type": "code",
   "execution_count": 12,
   "id": "2eb16763",
   "metadata": {},
   "outputs": [
    {
     "data": {
      "text/plain": [
       "True"
      ]
     },
     "execution_count": 12,
     "metadata": {},
     "output_type": "execute_result"
    }
   ],
   "source": [
    "test.vib_modes[0].index == 1"
   ]
  },
  {
   "cell_type": "code",
   "execution_count": 13,
   "id": "1af140b4",
   "metadata": {},
   "outputs": [
    {
     "data": {
      "text/plain": [
       "True"
      ]
     },
     "execution_count": 13,
     "metadata": {},
     "output_type": "execute_result"
    }
   ],
   "source": [
    "test.vib_modes[0].freq_in_inv_cm == 179.3834"
   ]
  },
  {
   "cell_type": "code",
   "execution_count": 14,
   "id": "c4ddee68",
   "metadata": {},
   "outputs": [
    {
     "data": {
      "text/plain": [
       "True"
      ]
     },
     "execution_count": 14,
     "metadata": {},
     "output_type": "execute_result"
    }
   ],
   "source": [
    "test.vib_modes[0].red_mass_amu == 3.8250"
   ]
  },
  {
   "cell_type": "code",
   "execution_count": 15,
   "id": "958c4eec",
   "metadata": {},
   "outputs": [
    {
     "data": {
      "text/plain": [
       "True"
      ]
     },
     "execution_count": 15,
     "metadata": {},
     "output_type": "execute_result"
    }
   ],
   "source": [
    "test.vib_modes[0].force_const_mDyne_per_A == 0.0725"
   ]
  },
  {
   "cell_type": "code",
   "execution_count": 16,
   "id": "9d677f6b",
   "metadata": {},
   "outputs": [
    {
     "data": {
      "text/plain": [
       "True"
      ]
     },
     "execution_count": 16,
     "metadata": {},
     "output_type": "execute_result"
    }
   ],
   "source": [
    "test.vib_modes[0].IR_intensity_KM_per_mole == 30.9331"
   ]
  },
  {
   "cell_type": "code",
   "execution_count": 17,
   "id": "e9eef161",
   "metadata": {},
   "outputs": [
    {
     "data": {
      "text/plain": [
       "array([ True,  True,  True])"
      ]
     },
     "execution_count": 17,
     "metadata": {},
     "output_type": "execute_result"
    }
   ],
   "source": [
    "test.vib_modes[0].norm_coord_xyz[0, :] == np.array([0, 0, 0.25470])"
   ]
  },
  {
   "cell_type": "code",
   "execution_count": 18,
   "id": "4e959d77",
   "metadata": {},
   "outputs": [
    {
     "data": {
      "text/plain": [
       "True"
      ]
     },
     "execution_count": 18,
     "metadata": {},
     "output_type": "execute_result"
    }
   ],
   "source": [
    "test.vib_modes[0].disp_vec_r[0] == 0.25470"
   ]
  },
  {
   "cell_type": "code",
   "execution_count": null,
   "id": "3a249ecb",
   "metadata": {},
   "outputs": [],
   "source": []
  }
 ],
 "metadata": {
  "kernelspec": {
   "display_name": "Python 3 (ipykernel)",
   "language": "python",
   "name": "python3"
  },
  "language_info": {
   "codemirror_mode": {
    "name": "ipython",
    "version": 3
   },
   "file_extension": ".py",
   "mimetype": "text/x-python",
   "name": "python",
   "nbconvert_exporter": "python",
   "pygments_lexer": "ipython3",
   "version": "3.10.5"
  }
 },
 "nbformat": 4,
 "nbformat_minor": 5
}
