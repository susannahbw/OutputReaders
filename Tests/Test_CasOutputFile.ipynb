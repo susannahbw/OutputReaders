{
 "cells": [
  {
   "cell_type": "code",
   "execution_count": 1,
   "id": "0e683558",
   "metadata": {},
   "outputs": [],
   "source": [
    "import pandas as pd\n",
    "import numpy as np\n",
    "\n",
    "import sys  \n",
    "sys.path.insert(0, '..')\n",
    "\n",
    "from MolPro import CasOutputFile as file"
   ]
  },
  {
   "cell_type": "code",
   "execution_count": 2,
   "id": "e21bd18c",
   "metadata": {},
   "outputs": [
    {
     "name": "stdout",
     "output_type": "stream",
     "text": [
      "['2222200', '22200', '0.9346786', '-0.0089069']\n",
      "['2222200', '22200', '0.9346786', '-0.0089069']\n",
      "['2222000', '22220', '-0.0167060', '-0.8053313']\n",
      "['2222000', '22220', '-0.0167060', '-0.8053313']\n",
      "['2220200', '22220', '-0.0085789', '0.4961477']\n",
      "['2220200', '22220', '-0.0085789', '0.4961477']\n",
      "['2222200', '22020', '-0.1376666', '0.0048631']\n",
      "['2222200', '22020', '-0.1376666', '0.0048631']\n",
      "['2222000', '22202', '-0.0032993', '0.1282679']\n",
      "['2222000', '22202', '-0.0032993', '0.1282679']\n",
      "['2222200', '22a0b', '-0.0979013', '-0.0008772']\n",
      "['2222200', '22a0b', '-0.0979013', '-0.0008772']\n",
      "['2222200', '22b0a', '0.0979013', '0.0008772']\n",
      "['2222200', '22b0a', '0.0979013', '0.0008772']\n",
      "['2222200', '20220', '-0.0942402', '0.0075900']\n",
      "['2222200', '20220', '-0.0942402', '0.0075900']\n",
      "['2220200', '22202', '-0.0057502', '-0.0932265']\n",
      "['2220200', '22202', '-0.0057502', '-0.0932265']\n",
      "['2222200', '2abba', '0.0754852', '-0.0021200']\n",
      "['2222200', '2abba', '0.0754852', '-0.0021200']\n",
      "['2222200', '2baab', '0.0754852', '-0.0021200']\n",
      "['2222200', '2baab', '0.0754852', '-0.0021200']\n",
      "['2222200', '2baba', '-0.0719765', '0.0021517']\n",
      "['2222200', '2baba', '-0.0719765', '0.0021517']\n",
      "['2222200', '2abab', '-0.0719765', '0.0021517']\n",
      "['2222200', '2abab', '-0.0719765', '0.0021517']\n",
      "['2220200', '22b2a', '-0.0012486', '-0.0605709']\n",
      "['2220200', '22b2a', '-0.0012486', '-0.0605709']\n",
      "['2220200', '22a2b', '0.0012486', '0.0605709']\n",
      "['2220200', '22a2b', '0.0012486', '0.0605709']\n",
      "['2222200', '2a2b0', '0.0586609', '0.0132624']\n",
      "['2222200', '2a2b0', '0.0586609', '0.0132624']\n",
      "['2222200', '2b2a0', '-0.0586609', '-0.0132624']\n",
      "['2222200', '2b2a0', '-0.0586609', '-0.0132624']\n",
      "['2222000', '22a2b', '0.0008335', '-0.0574905']\n",
      "['2222000', '22a2b', '0.0008335', '-0.0574905']\n",
      "['2222000', '22b2a', '-0.0008335', '0.0574905']\n",
      "['2222000', '22b2a', '-0.0008335', '0.0574905']\n",
      "['2222200', '20202', '-0.0572816', '-0.0010401']\n",
      "['2222200', '20202', '-0.0572816', '-0.0010401']\n",
      "['2222200', '22002', '-0.0537425', '-0.0000850']\n",
      "['2222200', '22002', '-0.0537425', '-0.0000850']\n",
      "['2222a00', '222b0', '0.6419163', '0.0455983']\n",
      "['2222a00', '222b0', '0.6419163', '0.0455983']\n",
      "['2222b00', '222a0', '-0.6419163', '-0.0455983']\n",
      "['2222b00', '222a0', '-0.6419163', '-0.0455983']\n",
      "['222a200', '222b0', '-0.0565800', '0.5964323']\n",
      "['222a200', '222b0', '-0.0565800', '0.5964323']\n",
      "['222b200', '222a0', '0.0565800', '-0.5964323']\n",
      "['222b200', '222a0', '0.0565800', '-0.5964323']\n",
      "['2222a00', '22b20', '-0.0217474', '0.2330064']\n",
      "['2222a00', '22b20', '-0.0217474', '0.2330064']\n",
      "['2222b00', '22a20', '0.0217474', '-0.2330064']\n",
      "['2222b00', '22a20', '0.0217474', '-0.2330064']\n",
      "['2222a00', '2220b', '-0.0201338', '-0.2058065']\n",
      "['2222a00', '2220b', '-0.0201338', '-0.2058065']\n",
      "['2222b00', '2220a', '0.0201338', '0.2058065']\n",
      "['2222b00', '2220a', '0.0201338', '0.2058065']\n",
      "['222a200', '22b20', '0.1563071', '0.0087929']\n",
      "['222a200', '22b20', '0.1563071', '0.0087929']\n",
      "['222b200', '22a20', '-0.1563071', '-0.0087929']\n",
      "['222b200', '22a20', '-0.1563071', '-0.0087929']\n",
      "['222a200', '2220b', '-0.1369504', '-0.0155412']\n",
      "['222a200', '2220b', '-0.1369504', '-0.0155412']\n",
      "['222b200', '2220a', '0.1369504', '0.0155412']\n",
      "['222b200', '2220a', '0.1369504', '0.0155412']\n",
      "['2222a00', '2b2ba', '-0.0000721', '0.0678611']\n",
      "['2222a00', '2b2ba', '-0.0000721', '0.0678611']\n",
      "['2222b00', '2a2ab', '-0.0000721', '0.0678611']\n",
      "['2222b00', '2a2ab', '-0.0000721', '0.0678611']\n",
      "['2222a00', '2b2ab', '-0.0035736', '-0.0580661']\n",
      "['2222a00', '2b2ab', '-0.0035736', '-0.0580661']\n",
      "['2222b00', '2a2ba', '-0.0035736', '-0.0580661']\n",
      "['2222b00', '2a2ba', '-0.0035736', '-0.0580661']\n",
      "['222a200', '2ba2b', '0.0001075', '-0.0536069']\n",
      "['222a200', '2ba2b', '0.0001075', '-0.0536069']\n",
      "['222b200', '2ab2a', '0.0001075', '-0.0536069']\n",
      "['222b200', '2ab2a', '0.0001075', '-0.0536069']\n",
      "['222a200', '2b2ba', '0.0531506', '0.0072861']\n",
      "['222a200', '2b2ba', '0.0531506', '0.0072861']\n",
      "['222b200', '2a2ab', '0.0531506', '0.0072861']\n",
      "['222b200', '2a2ab', '0.0531506', '0.0072861']\n",
      "['2222a00', '222a0', '0.9186795', '0.0372876']\n",
      "['2222a00', '222a0', '0.9186795', '0.0372876']\n",
      "['222a200', '222a0', '-0.0496395', '0.8598564']\n",
      "['222a200', '222a0', '-0.0496395', '0.8598564']\n",
      "['2222a00', '2220a', '-0.0317126', '-0.3189610']\n",
      "['2222a00', '2220a', '-0.0317126', '-0.3189610']\n",
      "['2222a00', '22a20', '-0.0284549', '0.2633584']\n",
      "['2222a00', '22a20', '-0.0284549', '0.2633584']\n",
      "['222a200', '2220a', '-0.2042947', '-0.0175875']\n",
      "['222a200', '2220a', '-0.2042947', '-0.0175875']\n",
      "['222a200', '22a20', '0.1860529', '-0.0067531']\n",
      "['222a200', '22a20', '0.1860529', '-0.0067531']\n",
      "['2222a00', '2a2ab', '0.0015286', '-0.0816792']\n",
      "['2222a00', '2a2ab', '0.0015286', '-0.0816792']\n",
      "['222a200', '2ab2a', '0.0008065', '0.0733219']\n",
      "['222a200', '2ab2a', '0.0008065', '0.0733219']\n",
      "['222a200', '2a2ab', '-0.0639915', '-0.0029612']\n",
      "['222a200', '2a2ab', '-0.0639915', '-0.0029612']\n",
      "['2222a00', '2ab2a', '0.0630599', '0.0067556']\n",
      "['2222a00', '2ab2a', '0.0630599', '0.0067556']\n",
      "['2222a00', '2a2ba', '0.0029411', '0.0629047']\n",
      "['2222a00', '2a2ba', '0.0029411', '0.0629047']\n",
      "['2222a00', '2202a', '0.0172651', '0.0594793']\n",
      "['2222a00', '2202a', '0.0172651', '0.0594793']\n",
      "['222aba0', '222a0', '0.0582251', '0.0003353']\n",
      "['222aba0', '222a0', '0.0582251', '0.0003353']\n",
      "['22220a0', '222a0', '0.0037024', '-0.0564613']\n",
      "['22220a0', '222a0', '0.0037024', '-0.0564613']\n",
      "['22a2200', '2220a', '-0.0133289', '0.0513982']\n",
      "['22a2200', '2220a', '-0.0133289', '0.0513982']\n"
     ]
    }
   ],
   "source": [
    "test = file('MolPro_Cas_Test.out')\n",
    "test.read_file()"
   ]
  },
  {
   "cell_type": "code",
   "execution_count": 3,
   "id": "ee2b8c62",
   "metadata": {},
   "outputs": [
    {
     "name": "stdout",
     "output_type": "stream",
     "text": [
      "filepath\n",
      "start_time\n",
      "total_calc_wall_time_s\n",
      "cas_cpu_time\n",
      "memory_mb\n",
      "input\n",
      "geometry\n",
      "basis\n",
      "molecular_point_group\n",
      "n_excited_states\n",
      "gs_energy_au\n",
      "excited_states\n",
      "orbs\n"
     ]
    }
   ],
   "source": [
    "for i in test.__dict__.keys():\n",
    "    print(i)"
   ]
  },
  {
   "cell_type": "code",
   "execution_count": 4,
   "id": "43ca5cf0",
   "metadata": {},
   "outputs": [
    {
     "data": {
      "text/plain": [
       "' memory, 1000, m\\n FILE, 2, step5.wfu\\n angstrom\\n geometry=/home/uccaour/GlyoxylicAcid/MolPro/VEE/CasTestAlongTraj/step5.xyz\\n Including file /home/uccaour/GlyoxylicAcid/MolPro/VEE/CasTestAlongTraj/step5.xyz\\n basis=cc-pvdz\\n \\n {matrop;\\n read,oldorbitals,file=step4.orb;\\n save,oldorbitals,2140.2,orbitals}\\n \\n {casscf;\\n print,CIVECTOR\\n start,2140.2\\n closed,11\\n occ,18,5\\n wf, charge=0,symmetry=1,spin=0;state,2;\\n wf, charge=0,symmetry=2,spin=0;state,2;\\n wf, charge=0,symmetry=2,spin=2;state,2;\\n orbital,2141.2\\n }\\n \\n {matrop;\\n load,orbital,orb,2141.2;\\n write,orbital,step5.orb}\\n \\n put,molden,step5.molden\\n\\n'"
      ]
     },
     "execution_count": 4,
     "metadata": {},
     "output_type": "execute_result"
    }
   ],
   "source": [
    "test.input"
   ]
  },
  {
   "cell_type": "code",
   "execution_count": 5,
   "id": "eccb0c0f",
   "metadata": {},
   "outputs": [
    {
     "data": {
      "text/plain": [
       "True"
      ]
     },
     "execution_count": 5,
     "metadata": {},
     "output_type": "execute_result"
    }
   ],
   "source": [
    "test.filepath == 'MolPro_Cas_Test.out'"
   ]
  },
  {
   "cell_type": "code",
   "execution_count": 6,
   "id": "04ec7fad",
   "metadata": {},
   "outputs": [
    {
     "data": {
      "text/plain": [
       "True"
      ]
     },
     "execution_count": 6,
     "metadata": {},
     "output_type": "execute_result"
    }
   ],
   "source": [
    "test.start_time['day'] == '19'"
   ]
  },
  {
   "cell_type": "code",
   "execution_count": 7,
   "id": "c0ce854d",
   "metadata": {},
   "outputs": [
    {
     "data": {
      "text/plain": [
       "True"
      ]
     },
     "execution_count": 7,
     "metadata": {},
     "output_type": "execute_result"
    }
   ],
   "source": [
    "test.start_time['month'] == 'Oct'"
   ]
  },
  {
   "cell_type": "code",
   "execution_count": 8,
   "id": "e38f0f3b",
   "metadata": {},
   "outputs": [
    {
     "data": {
      "text/plain": [
       "True"
      ]
     },
     "execution_count": 8,
     "metadata": {},
     "output_type": "execute_result"
    }
   ],
   "source": [
    "test.start_time['year'] == '22'"
   ]
  },
  {
   "cell_type": "code",
   "execution_count": 9,
   "id": "03532075",
   "metadata": {},
   "outputs": [
    {
     "data": {
      "text/plain": [
       "True"
      ]
     },
     "execution_count": 9,
     "metadata": {},
     "output_type": "execute_result"
    }
   ],
   "source": [
    "test.start_time['time'] == '14:56:08'"
   ]
  },
  {
   "cell_type": "code",
   "execution_count": 10,
   "id": "da2c7e29",
   "metadata": {},
   "outputs": [
    {
     "data": {
      "text/plain": [
       "True"
      ]
     },
     "execution_count": 10,
     "metadata": {},
     "output_type": "execute_result"
    }
   ],
   "source": [
    "test.total_calc_wall_time_s == 113.21"
   ]
  },
  {
   "cell_type": "code",
   "execution_count": 11,
   "id": "7f69f660",
   "metadata": {},
   "outputs": [
    {
     "data": {
      "text/plain": [
       "True"
      ]
     },
     "execution_count": 11,
     "metadata": {},
     "output_type": "execute_result"
    }
   ],
   "source": [
    "test.cas_cpu_time == 83.13"
   ]
  },
  {
   "cell_type": "code",
   "execution_count": 12,
   "id": "67ca3f58",
   "metadata": {},
   "outputs": [
    {
     "data": {
      "text/plain": [
       "True"
      ]
     },
     "execution_count": 12,
     "metadata": {},
     "output_type": "execute_result"
    }
   ],
   "source": [
    "test.memory_mb == 344.43"
   ]
  },
  {
   "cell_type": "code",
   "execution_count": 13,
   "id": "a9f3436c",
   "metadata": {},
   "outputs": [
    {
     "data": {
      "text/plain": [
       "True"
      ]
     },
     "execution_count": 13,
     "metadata": {},
     "output_type": "execute_result"
    }
   ],
   "source": [
    "len(test.geometry) == 7"
   ]
  },
  {
   "cell_type": "code",
   "execution_count": 14,
   "id": "e71c5fa7",
   "metadata": {},
   "outputs": [
    {
     "data": {
      "text/plain": [
       "True"
      ]
     },
     "execution_count": 14,
     "metadata": {},
     "output_type": "execute_result"
    }
   ],
   "source": [
    "test.geometry[5]['atom'] == 'H'"
   ]
  },
  {
   "cell_type": "code",
   "execution_count": 15,
   "id": "e0634643",
   "metadata": {},
   "outputs": [
    {
     "data": {
      "text/plain": [
       "array([ True,  True,  True])"
      ]
     },
     "execution_count": 15,
     "metadata": {},
     "output_type": "execute_result"
    }
   ],
   "source": [
    "test.geometry[5]['xyz'] == np.array([1.566809724, -3.417191751, 0.000000000])"
   ]
  },
  {
   "cell_type": "code",
   "execution_count": 16,
   "id": "db340421",
   "metadata": {},
   "outputs": [
    {
     "data": {
      "text/plain": [
       "True"
      ]
     },
     "execution_count": 16,
     "metadata": {},
     "output_type": "execute_result"
    }
   ],
   "source": [
    "test.basis == 'CC-PVDZ'"
   ]
  },
  {
   "cell_type": "code",
   "execution_count": 17,
   "id": "bd08599f",
   "metadata": {},
   "outputs": [
    {
     "data": {
      "text/plain": [
       "True"
      ]
     },
     "execution_count": 17,
     "metadata": {},
     "output_type": "execute_result"
    }
   ],
   "source": [
    "test.molecular_point_group == 'Cs'"
   ]
  },
  {
   "cell_type": "code",
   "execution_count": 18,
   "id": "433e42fd",
   "metadata": {},
   "outputs": [
    {
     "data": {
      "text/plain": [
       "True"
      ]
     },
     "execution_count": 18,
     "metadata": {},
     "output_type": "execute_result"
    }
   ],
   "source": [
    "test.n_excited_states == 6"
   ]
  },
  {
   "cell_type": "code",
   "execution_count": 19,
   "id": "6ec1d3a2",
   "metadata": {},
   "outputs": [
    {
     "data": {
      "text/plain": [
       "True"
      ]
     },
     "execution_count": 19,
     "metadata": {},
     "output_type": "execute_result"
    }
   ],
   "source": [
    "test.gs_energy_au == -301.621975140183"
   ]
  },
  {
   "cell_type": "code",
   "execution_count": 20,
   "id": "b77eefec",
   "metadata": {},
   "outputs": [
    {
     "data": {
      "text/plain": [
       "True"
      ]
     },
     "execution_count": 20,
     "metadata": {},
     "output_type": "execute_result"
    }
   ],
   "source": [
    "len(test.excited_states) == 6"
   ]
  },
  {
   "cell_type": "code",
   "execution_count": 21,
   "id": "628736f7",
   "metadata": {},
   "outputs": [
    {
     "name": "stdout",
     "output_type": "stream",
     "text": [
      "excitation_energy_au\n",
      "symmetry\n",
      "spin\n",
      "config\n",
      "coeffs\n"
     ]
    }
   ],
   "source": [
    "for i in test.excited_states[2].__dict__.keys():\n",
    "    print(i)"
   ]
  },
  {
   "cell_type": "code",
   "execution_count": 22,
   "id": "1a8c6167",
   "metadata": {},
   "outputs": [
    {
     "data": {
      "text/plain": [
       "True"
      ]
     },
     "execution_count": 22,
     "metadata": {},
     "output_type": "execute_result"
    }
   ],
   "source": [
    "test.excited_states[2].excitation_energy_au +  test.gs_energy_au \\\n",
    "== -301.493438444703"
   ]
  },
  {
   "cell_type": "code",
   "execution_count": 23,
   "id": "74657ac6",
   "metadata": {},
   "outputs": [
    {
     "data": {
      "text/plain": [
       "True"
      ]
     },
     "execution_count": 23,
     "metadata": {},
     "output_type": "execute_result"
    }
   ],
   "source": [
    "test.excited_states[2].symmetry == '2'"
   ]
  },
  {
   "cell_type": "code",
   "execution_count": 24,
   "id": "1433690b",
   "metadata": {},
   "outputs": [
    {
     "data": {
      "text/plain": [
       "True"
      ]
     },
     "execution_count": 24,
     "metadata": {},
     "output_type": "execute_result"
    }
   ],
   "source": [
    "test.excited_states[2].spin == 'Singlet'"
   ]
  },
  {
   "cell_type": "code",
   "execution_count": 25,
   "id": "a428f2aa",
   "metadata": {},
   "outputs": [
    {
     "data": {
      "text/plain": [
       "True"
      ]
     },
     "execution_count": 25,
     "metadata": {},
     "output_type": "execute_result"
    }
   ],
   "source": [
    "test.excited_states[3].config[2] == '222a200 222b0'"
   ]
  },
  {
   "cell_type": "code",
   "execution_count": 26,
   "id": "4ec55f99",
   "metadata": {},
   "outputs": [
    {
     "data": {
      "text/plain": [
       "True"
      ]
     },
     "execution_count": 26,
     "metadata": {},
     "output_type": "execute_result"
    }
   ],
   "source": [
    "test.excited_states[3].coeffs[2] == 0.5964323"
   ]
  },
  {
   "cell_type": "code",
   "execution_count": 27,
   "id": "92e57aef",
   "metadata": {},
   "outputs": [
    {
     "data": {
      "text/plain": [
       "True"
      ]
     },
     "execution_count": 27,
     "metadata": {},
     "output_type": "execute_result"
    }
   ],
   "source": [
    "test.orbs[16].index == 17"
   ]
  },
  {
   "cell_type": "code",
   "execution_count": 28,
   "id": "459008f5",
   "metadata": {},
   "outputs": [
    {
     "data": {
      "text/plain": [
       "True"
      ]
     },
     "execution_count": 28,
     "metadata": {},
     "output_type": "execute_result"
    }
   ],
   "source": [
    "test.orbs[16].sym_ix == '3.2'"
   ]
  },
  {
   "cell_type": "code",
   "execution_count": 29,
   "id": "867b6497",
   "metadata": {},
   "outputs": [
    {
     "data": {
      "text/plain": [
       "True"
      ]
     },
     "execution_count": 29,
     "metadata": {},
     "output_type": "execute_result"
    }
   ],
   "source": [
    "test.orbs[16].occupation == 1.9117"
   ]
  },
  {
   "cell_type": "code",
   "execution_count": 30,
   "id": "904b177b",
   "metadata": {},
   "outputs": [
    {
     "data": {
      "text/plain": [
       "True"
      ]
     },
     "execution_count": 30,
     "metadata": {},
     "output_type": "execute_result"
    }
   ],
   "source": [
    "test.orbs[16].eigenvalue == -0.5526"
   ]
  },
  {
   "cell_type": "code",
   "execution_count": 31,
   "id": "ed293df8",
   "metadata": {},
   "outputs": [
    {
     "data": {
      "text/plain": [
       "17"
      ]
     },
     "execution_count": 31,
     "metadata": {},
     "output_type": "execute_result"
    }
   ],
   "source": [
    "test.orbs[16].index"
   ]
  }
 ],
 "metadata": {
  "kernelspec": {
   "display_name": "Python 3 (ipykernel)",
   "language": "python",
   "name": "python3"
  },
  "language_info": {
   "codemirror_mode": {
    "name": "ipython",
    "version": 3
   },
   "file_extension": ".py",
   "mimetype": "text/x-python",
   "name": "python",
   "nbconvert_exporter": "python",
   "pygments_lexer": "ipython3",
   "version": "3.10.5"
  }
 },
 "nbformat": 4,
 "nbformat_minor": 5
}
