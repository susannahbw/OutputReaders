{
 "cells": [
  {
   "cell_type": "code",
   "execution_count": 1,
   "id": "0e683558",
   "metadata": {},
   "outputs": [],
   "source": [
    "import pandas as pd\n",
    "import numpy as np\n",
    "\n",
    "import sys  \n",
    "sys.path.insert(0, '..')\n",
    "\n",
    "from MolPro import CasOutputFile as file"
   ]
  },
  {
   "cell_type": "code",
   "execution_count": 2,
   "id": "e21bd18c",
   "metadata": {},
   "outputs": [],
   "source": [
    "test = file('MolPro_Cas_Test.out')\n",
    "test.read_file()"
   ]
  },
  {
   "cell_type": "code",
   "execution_count": 3,
   "id": "ee2b8c62",
   "metadata": {},
   "outputs": [
    {
     "name": "stdout",
     "output_type": "stream",
     "text": [
      "filepath\n",
      "start_time\n",
      "total_calc_wall_time_s\n",
      "cas_cpu_time\n",
      "memory_mb\n",
      "input\n",
      "geometry\n",
      "basis\n",
      "molecular_point_group\n",
      "n_excited_states\n",
      "gs_energy_au\n",
      "excited_states\n",
      "orbs\n",
      "extension\n"
     ]
    }
   ],
   "source": [
    "for i in test.__dict__.keys():\n",
    "    print(i)"
   ]
  },
  {
   "cell_type": "code",
   "execution_count": 4,
   "id": "43ca5cf0",
   "metadata": {},
   "outputs": [
    {
     "data": {
      "text/plain": [
       "' memory, 1000, m\\n FILE, 2, step5.wfu\\n angstrom\\n geometry=/home/uccaour/GlyoxylicAcid/MolPro/VEE/CasTestAlongTraj/step5.xyz\\n Including file /home/uccaour/GlyoxylicAcid/MolPro/VEE/CasTestAlongTraj/step5.xyz\\n basis=cc-pvdz\\n \\n {matrop;\\n read,oldorbitals,file=step4.orb;\\n save,oldorbitals,2140.2,orbitals}\\n \\n {casscf;\\n print,CIVECTOR\\n start,2140.2\\n closed,11\\n occ,18,5\\n wf, charge=0,symmetry=1,spin=0;state,2;\\n wf, charge=0,symmetry=2,spin=0;state,2;\\n wf, charge=0,symmetry=2,spin=2;state,2;\\n orbital,2141.2\\n }\\n \\n {matrop;\\n load,orbital,orb,2141.2;\\n write,orbital,step5.orb}\\n \\n put,molden,step5.molden\\n\\n'"
      ]
     },
     "execution_count": 4,
     "metadata": {},
     "output_type": "execute_result"
    }
   ],
   "source": [
    "test.input"
   ]
  },
  {
   "cell_type": "code",
   "execution_count": 5,
   "id": "eccb0c0f",
   "metadata": {},
   "outputs": [
    {
     "data": {
      "text/plain": [
       "True"
      ]
     },
     "execution_count": 5,
     "metadata": {},
     "output_type": "execute_result"
    }
   ],
   "source": [
    "test.filepath == 'MolPro_Cas_Test.out'"
   ]
  },
  {
   "cell_type": "code",
   "execution_count": 6,
   "id": "04ec7fad",
   "metadata": {},
   "outputs": [
    {
     "data": {
      "text/plain": [
       "True"
      ]
     },
     "execution_count": 6,
     "metadata": {},
     "output_type": "execute_result"
    }
   ],
   "source": [
    "test.start_time['day'] == '19'"
   ]
  },
  {
   "cell_type": "code",
   "execution_count": 7,
   "id": "c0ce854d",
   "metadata": {},
   "outputs": [
    {
     "data": {
      "text/plain": [
       "True"
      ]
     },
     "execution_count": 7,
     "metadata": {},
     "output_type": "execute_result"
    }
   ],
   "source": [
    "test.start_time['month'] == 'Oct'"
   ]
  },
  {
   "cell_type": "code",
   "execution_count": 8,
   "id": "e38f0f3b",
   "metadata": {},
   "outputs": [
    {
     "data": {
      "text/plain": [
       "True"
      ]
     },
     "execution_count": 8,
     "metadata": {},
     "output_type": "execute_result"
    }
   ],
   "source": [
    "test.start_time['year'] == '22'"
   ]
  },
  {
   "cell_type": "code",
   "execution_count": 9,
   "id": "03532075",
   "metadata": {},
   "outputs": [
    {
     "data": {
      "text/plain": [
       "True"
      ]
     },
     "execution_count": 9,
     "metadata": {},
     "output_type": "execute_result"
    }
   ],
   "source": [
    "test.start_time['time'] == '14:56:08'"
   ]
  },
  {
   "cell_type": "code",
   "execution_count": 10,
   "id": "da2c7e29",
   "metadata": {},
   "outputs": [
    {
     "data": {
      "text/plain": [
       "True"
      ]
     },
     "execution_count": 10,
     "metadata": {},
     "output_type": "execute_result"
    }
   ],
   "source": [
    "test.total_calc_wall_time_s == 113.21"
   ]
  },
  {
   "cell_type": "code",
   "execution_count": 11,
   "id": "7f69f660",
   "metadata": {},
   "outputs": [
    {
     "data": {
      "text/plain": [
       "True"
      ]
     },
     "execution_count": 11,
     "metadata": {},
     "output_type": "execute_result"
    }
   ],
   "source": [
    "test.cas_cpu_time == 83.13"
   ]
  },
  {
   "cell_type": "code",
   "execution_count": 12,
   "id": "67ca3f58",
   "metadata": {},
   "outputs": [
    {
     "data": {
      "text/plain": [
       "True"
      ]
     },
     "execution_count": 12,
     "metadata": {},
     "output_type": "execute_result"
    }
   ],
   "source": [
    "test.memory_mb == 344.43"
   ]
  },
  {
   "cell_type": "code",
   "execution_count": 13,
   "id": "a9f3436c",
   "metadata": {},
   "outputs": [
    {
     "data": {
      "text/plain": [
       "True"
      ]
     },
     "execution_count": 13,
     "metadata": {},
     "output_type": "execute_result"
    }
   ],
   "source": [
    "len(test.geometry) == 7"
   ]
  },
  {
   "cell_type": "code",
   "execution_count": 14,
   "id": "e71c5fa7",
   "metadata": {},
   "outputs": [
    {
     "data": {
      "text/plain": [
       "True"
      ]
     },
     "execution_count": 14,
     "metadata": {},
     "output_type": "execute_result"
    }
   ],
   "source": [
    "test.geometry[5]['atom'] == 'H'"
   ]
  },
  {
   "cell_type": "code",
   "execution_count": 15,
   "id": "e0634643",
   "metadata": {},
   "outputs": [
    {
     "data": {
      "text/plain": [
       "array([ True,  True,  True])"
      ]
     },
     "execution_count": 15,
     "metadata": {},
     "output_type": "execute_result"
    }
   ],
   "source": [
    "test.geometry[5]['xyz'] == np.array([1.566809724, -3.417191751, 0.000000000])"
   ]
  },
  {
   "cell_type": "code",
   "execution_count": 16,
   "id": "db340421",
   "metadata": {},
   "outputs": [
    {
     "data": {
      "text/plain": [
       "True"
      ]
     },
     "execution_count": 16,
     "metadata": {},
     "output_type": "execute_result"
    }
   ],
   "source": [
    "test.basis == 'CC-PVDZ'"
   ]
  },
  {
   "cell_type": "code",
   "execution_count": 17,
   "id": "bd08599f",
   "metadata": {},
   "outputs": [
    {
     "data": {
      "text/plain": [
       "True"
      ]
     },
     "execution_count": 17,
     "metadata": {},
     "output_type": "execute_result"
    }
   ],
   "source": [
    "test.molecular_point_group == 'Cs'"
   ]
  },
  {
   "cell_type": "code",
   "execution_count": 18,
   "id": "433e42fd",
   "metadata": {},
   "outputs": [
    {
     "data": {
      "text/plain": [
       "True"
      ]
     },
     "execution_count": 18,
     "metadata": {},
     "output_type": "execute_result"
    }
   ],
   "source": [
    "test.n_excited_states == 6"
   ]
  },
  {
   "cell_type": "code",
   "execution_count": 19,
   "id": "6ec1d3a2",
   "metadata": {},
   "outputs": [
    {
     "data": {
      "text/plain": [
       "True"
      ]
     },
     "execution_count": 19,
     "metadata": {},
     "output_type": "execute_result"
    }
   ],
   "source": [
    "test.gs_energy_au['CAS'] == -301.621975140183"
   ]
  },
  {
   "cell_type": "code",
   "execution_count": 20,
   "id": "b77eefec",
   "metadata": {},
   "outputs": [
    {
     "data": {
      "text/plain": [
       "True"
      ]
     },
     "execution_count": 20,
     "metadata": {},
     "output_type": "execute_result"
    }
   ],
   "source": [
    "len(test.excited_states) == 6"
   ]
  },
  {
   "cell_type": "code",
   "execution_count": 21,
   "id": "628736f7",
   "metadata": {},
   "outputs": [
    {
     "name": "stdout",
     "output_type": "stream",
     "text": [
      "excited_state_energy_au\n",
      "symmetry\n",
      "spin\n",
      "config\n",
      "coeffs\n"
     ]
    }
   ],
   "source": [
    "for i in test.excited_states[2].__dict__.keys():\n",
    "    print(i)"
   ]
  },
  {
   "cell_type": "code",
   "execution_count": 22,
   "id": "1a8c6167",
   "metadata": {},
   "outputs": [
    {
     "data": {
      "text/plain": [
       "True"
      ]
     },
     "execution_count": 22,
     "metadata": {},
     "output_type": "execute_result"
    }
   ],
   "source": [
    "test.excited_states[2].excited_state_energy_au == -301.493438444703"
   ]
  },
  {
   "cell_type": "code",
   "execution_count": 23,
   "id": "74657ac6",
   "metadata": {},
   "outputs": [
    {
     "data": {
      "text/plain": [
       "True"
      ]
     },
     "execution_count": 23,
     "metadata": {},
     "output_type": "execute_result"
    }
   ],
   "source": [
    "test.excited_states[2].symmetry == '2'"
   ]
  },
  {
   "cell_type": "code",
   "execution_count": 24,
   "id": "1433690b",
   "metadata": {},
   "outputs": [
    {
     "data": {
      "text/plain": [
       "True"
      ]
     },
     "execution_count": 24,
     "metadata": {},
     "output_type": "execute_result"
    }
   ],
   "source": [
    "test.excited_states[2].spin == 'Singlet'"
   ]
  },
  {
   "cell_type": "code",
   "execution_count": 25,
   "id": "a428f2aa",
   "metadata": {},
   "outputs": [
    {
     "data": {
      "text/plain": [
       "True"
      ]
     },
     "execution_count": 25,
     "metadata": {},
     "output_type": "execute_result"
    }
   ],
   "source": [
    "test.excited_states[3].config[2] == '222a200 222b0'"
   ]
  },
  {
   "cell_type": "code",
   "execution_count": 26,
   "id": "4ec55f99",
   "metadata": {},
   "outputs": [
    {
     "data": {
      "text/plain": [
       "True"
      ]
     },
     "execution_count": 26,
     "metadata": {},
     "output_type": "execute_result"
    }
   ],
   "source": [
    "test.excited_states[3].coeffs[2] == 0.5964323"
   ]
  },
  {
   "cell_type": "code",
   "execution_count": 27,
   "id": "92e57aef",
   "metadata": {},
   "outputs": [
    {
     "data": {
      "text/plain": [
       "True"
      ]
     },
     "execution_count": 27,
     "metadata": {},
     "output_type": "execute_result"
    }
   ],
   "source": [
    "test.orbs[16].index == 17"
   ]
  },
  {
   "cell_type": "code",
   "execution_count": 28,
   "id": "459008f5",
   "metadata": {},
   "outputs": [
    {
     "data": {
      "text/plain": [
       "True"
      ]
     },
     "execution_count": 28,
     "metadata": {},
     "output_type": "execute_result"
    }
   ],
   "source": [
    "test.orbs[16].sym_ix == '3.2'"
   ]
  },
  {
   "cell_type": "code",
   "execution_count": 29,
   "id": "867b6497",
   "metadata": {},
   "outputs": [
    {
     "data": {
      "text/plain": [
       "True"
      ]
     },
     "execution_count": 29,
     "metadata": {},
     "output_type": "execute_result"
    }
   ],
   "source": [
    "test.orbs[16].occupation == 1.9117"
   ]
  },
  {
   "cell_type": "code",
   "execution_count": 30,
   "id": "904b177b",
   "metadata": {},
   "outputs": [
    {
     "data": {
      "text/plain": [
       "True"
      ]
     },
     "execution_count": 30,
     "metadata": {},
     "output_type": "execute_result"
    }
   ],
   "source": [
    "test.orbs[16].eigenvalue == -0.5526"
   ]
  },
  {
   "cell_type": "code",
   "execution_count": 31,
   "id": "ed293df8",
   "metadata": {},
   "outputs": [
    {
     "data": {
      "text/plain": [
       "17"
      ]
     },
     "execution_count": 31,
     "metadata": {},
     "output_type": "execute_result"
    }
   ],
   "source": [
    "test.orbs[16].index"
   ]
  },
  {
   "cell_type": "code",
   "execution_count": 32,
   "id": "d497984e",
   "metadata": {},
   "outputs": [],
   "source": [
    "test = file('MolPro_Caspt2_Test.out', 'caspt2')\n",
    "test.read_file()"
   ]
  },
  {
   "cell_type": "code",
   "execution_count": 33,
   "id": "a205dd9a",
   "metadata": {},
   "outputs": [
    {
     "data": {
      "text/plain": [
       "True"
      ]
     },
     "execution_count": 33,
     "metadata": {},
     "output_type": "execute_result"
    }
   ],
   "source": [
    "test.extension == 'caspt2' "
   ]
  },
  {
   "cell_type": "code",
   "execution_count": 34,
   "id": "adf0a819",
   "metadata": {},
   "outputs": [
    {
     "data": {
      "text/plain": [
       "True"
      ]
     },
     "execution_count": 34,
     "metadata": {},
     "output_type": "execute_result"
    }
   ],
   "source": [
    "test.rs2_cpu_time == 2321.64"
   ]
  },
  {
   "cell_type": "code",
   "execution_count": 35,
   "id": "3705bebd",
   "metadata": {},
   "outputs": [
    {
     "data": {
      "text/plain": [
       "True"
      ]
     },
     "execution_count": 35,
     "metadata": {},
     "output_type": "execute_result"
    }
   ],
   "source": [
    "test.gs_energy_au['CASPT2'] == -302.310138480093"
   ]
  },
  {
   "cell_type": "code",
   "execution_count": 36,
   "id": "9b390f81",
   "metadata": {},
   "outputs": [
    {
     "data": {
      "text/plain": [
       "True"
      ]
     },
     "execution_count": 36,
     "metadata": {},
     "output_type": "execute_result"
    }
   ],
   "source": [
    "test.excited_states[4].level_shift == 0.3"
   ]
  },
  {
   "cell_type": "code",
   "execution_count": 37,
   "id": "a53af287",
   "metadata": {},
   "outputs": [
    {
     "data": {
      "text/plain": [
       "False"
      ]
     },
     "execution_count": 37,
     "metadata": {},
     "output_type": "execute_result"
    }
   ],
   "source": [
    "test.excited_states[4].excited_state_energy_au == -302.054859730173"
   ]
  },
  {
   "cell_type": "code",
   "execution_count": 39,
   "id": "519503cb",
   "metadata": {},
   "outputs": [
    {
     "data": {
      "text/plain": [
       "-301.511740448751"
      ]
     },
     "execution_count": 39,
     "metadata": {},
     "output_type": "execute_result"
    }
   ],
   "source": [
    "test.excited_states[4].excited_state_energy_au"
   ]
  },
  {
   "cell_type": "code",
   "execution_count": 38,
   "id": "061bd2e2",
   "metadata": {},
   "outputs": [
    {
     "data": {
      "text/plain": [
       "False"
      ]
     },
     "execution_count": 38,
     "metadata": {},
     "output_type": "execute_result"
    }
   ],
   "source": [
    "test.excited_states[4].cas_excited_state_energy_au == -301.511740448751"
   ]
  },
  {
   "cell_type": "code",
   "execution_count": 40,
   "id": "e8000c67",
   "metadata": {},
   "outputs": [],
   "source": [
    "test.excited_states[4].cas_excited_state_energy_au"
   ]
  },
  {
   "cell_type": "code",
   "execution_count": null,
   "id": "11abfe76",
   "metadata": {},
   "outputs": [],
   "source": []
  }
 ],
 "metadata": {
  "kernelspec": {
   "display_name": "Python 3 (ipykernel)",
   "language": "python",
   "name": "python3"
  },
  "language_info": {
   "codemirror_mode": {
    "name": "ipython",
    "version": 3
   },
   "file_extension": ".py",
   "mimetype": "text/x-python",
   "name": "python",
   "nbconvert_exporter": "python",
   "pygments_lexer": "ipython3",
   "version": "3.10.5"
  }
 },
 "nbformat": 4,
 "nbformat_minor": 5
}
