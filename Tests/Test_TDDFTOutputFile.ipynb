{
 "cells": [
  {
   "cell_type": "code",
   "execution_count": 1,
   "id": "52079da4",
   "metadata": {},
   "outputs": [],
   "source": [
    "import pandas as pd\n",
    "\n",
    "import sys  \n",
    "sys.path.insert(0, '..')\n",
    "\n",
    "from QChem import TddftOutputFile as ofile"
   ]
  },
  {
   "cell_type": "code",
   "execution_count": 2,
   "id": "48c122ff",
   "metadata": {},
   "outputs": [],
   "source": [
    "test = ofile('QChem_TDDFT_GA_vee.out')\n",
    "test.read_file()"
   ]
  },
  {
   "cell_type": "code",
   "execution_count": 3,
   "id": "7f6d09ca",
   "metadata": {},
   "outputs": [
    {
     "name": "stdout",
     "output_type": "stream",
     "text": [
      "filepath\n",
      "start_time\n",
      "end_time\n",
      "wall_time\n",
      "cpu_time\n",
      "input\n",
      "geometry\n",
      "basis\n",
      "functional\n",
      "molecular_point_group\n",
      "n_alpha_elec\n",
      "n_beta_elec\n",
      "n_basis_functions\n",
      "n_excited_states\n",
      "excited_states\n"
     ]
    }
   ],
   "source": [
    "for i in test.__dict__.keys():\n",
    "    print(i)"
   ]
  },
  {
   "cell_type": "code",
   "execution_count": 4,
   "id": "d91ca3bb",
   "metadata": {},
   "outputs": [
    {
     "data": {
      "text/plain": [
       "'QChem_TDDFT_GA_vee.out'"
      ]
     },
     "execution_count": 4,
     "metadata": {},
     "output_type": "execute_result"
    }
   ],
   "source": [
    "test.filepath"
   ]
  },
  {
   "cell_type": "code",
   "execution_count": 5,
   "id": "c6171c22",
   "metadata": {},
   "outputs": [
    {
     "data": {
      "text/plain": [
       "{'day': '17', 'month': 'Aug', 'year': '2022', 'time': '10:18:46'}"
      ]
     },
     "execution_count": 5,
     "metadata": {},
     "output_type": "execute_result"
    }
   ],
   "source": [
    "test.start_time"
   ]
  },
  {
   "cell_type": "code",
   "execution_count": 6,
   "id": "f6116b1a",
   "metadata": {},
   "outputs": [
    {
     "data": {
      "text/plain": [
       "{'day': '17', 'month': 'Aug', 'year': '2022', 'time': '10:23:29'}"
      ]
     },
     "execution_count": 6,
     "metadata": {},
     "output_type": "execute_result"
    }
   ],
   "source": [
    "test.end_time"
   ]
  },
  {
   "cell_type": "code",
   "execution_count": 7,
   "id": "6cd2bc4d",
   "metadata": {},
   "outputs": [
    {
     "data": {
      "text/plain": [
       "283.47"
      ]
     },
     "execution_count": 7,
     "metadata": {},
     "output_type": "execute_result"
    }
   ],
   "source": [
    "test.wall_time"
   ]
  },
  {
   "cell_type": "code",
   "execution_count": 8,
   "id": "2df47d9a",
   "metadata": {},
   "outputs": [
    {
     "data": {
      "text/plain": [
       "4249.65"
      ]
     },
     "execution_count": 8,
     "metadata": {},
     "output_type": "execute_result"
    }
   ],
   "source": [
    "test.cpu_time"
   ]
  },
  {
   "cell_type": "code",
   "execution_count": 9,
   "id": "9dcd8633",
   "metadata": {},
   "outputs": [
    {
     "data": {
      "text/plain": [
       "'$comment\\nTDDFT calculation of first 10 excited states of GA. Ask for both TDA and full TDDFT calcs.\\n$end\\n\\n$molecule\\nREAD /home/uccaour/GlyoxylicAcid/QChem/opt_geom_m062x_augccpvtz.txt\\n$end\\n\\n$rem\\nEXCHANGE = B5050LYP\\nBASIS  =  aug-cc-pVTZ\\nCIS_N_ROOTS = 5\\nCIS_SINGLETS = true\\nCIS_TRIPLETS = true\\nRPA = true\\nGUI  =  2\\nSCF_CONVERGENCE  =  8\\n$end\\n\\n'"
      ]
     },
     "execution_count": 9,
     "metadata": {},
     "output_type": "execute_result"
    }
   ],
   "source": [
    "test.input"
   ]
  },
  {
   "cell_type": "code",
   "execution_count": 10,
   "id": "9f76991d",
   "metadata": {},
   "outputs": [
    {
     "data": {
      "text/plain": [
       "'aug-cc-pVTZ'"
      ]
     },
     "execution_count": 10,
     "metadata": {},
     "output_type": "execute_result"
    }
   ],
   "source": [
    "test.basis"
   ]
  },
  {
   "cell_type": "code",
   "execution_count": 11,
   "id": "dc673c36",
   "metadata": {},
   "outputs": [
    {
     "data": {
      "text/plain": [
       "'B5050LYP'"
      ]
     },
     "execution_count": 11,
     "metadata": {},
     "output_type": "execute_result"
    }
   ],
   "source": [
    "test.functional"
   ]
  },
  {
   "cell_type": "code",
   "execution_count": 12,
   "id": "f6f05a30",
   "metadata": {},
   "outputs": [
    {
     "data": {
      "text/plain": [
       "'Cs'"
      ]
     },
     "execution_count": 12,
     "metadata": {},
     "output_type": "execute_result"
    }
   ],
   "source": [
    "test.molecular_point_group"
   ]
  },
  {
   "cell_type": "code",
   "execution_count": 13,
   "id": "53f91831",
   "metadata": {},
   "outputs": [
    {
     "data": {
      "text/plain": [
       "19"
      ]
     },
     "execution_count": 13,
     "metadata": {},
     "output_type": "execute_result"
    }
   ],
   "source": [
    "test.n_alpha_elec"
   ]
  },
  {
   "cell_type": "code",
   "execution_count": 14,
   "id": "2ee3b421",
   "metadata": {},
   "outputs": [
    {
     "data": {
      "text/plain": [
       "19"
      ]
     },
     "execution_count": 14,
     "metadata": {},
     "output_type": "execute_result"
    }
   ],
   "source": [
    "test.n_beta_elec"
   ]
  },
  {
   "cell_type": "code",
   "execution_count": 15,
   "id": "d33955bb",
   "metadata": {},
   "outputs": [
    {
     "data": {
      "text/plain": [
       "276"
      ]
     },
     "execution_count": 15,
     "metadata": {},
     "output_type": "execute_result"
    }
   ],
   "source": [
    "test.n_basis_functions"
   ]
  },
  {
   "cell_type": "code",
   "execution_count": 16,
   "id": "6e73b79f",
   "metadata": {},
   "outputs": [
    {
     "data": {
      "text/plain": [
       "10"
      ]
     },
     "execution_count": 16,
     "metadata": {},
     "output_type": "execute_result"
    }
   ],
   "source": [
    "test.n_excited_states"
   ]
  },
  {
   "cell_type": "code",
   "execution_count": 17,
   "id": "dc54c43f",
   "metadata": {},
   "outputs": [
    {
     "data": {
      "text/plain": [
       "[<MolecularPropertyObjects.ExcitedState at 0x10c1cf100>,\n",
       " <MolecularPropertyObjects.ExcitedState at 0x10c1cdcc0>,\n",
       " <MolecularPropertyObjects.ExcitedState at 0x10c1cec50>,\n",
       " <MolecularPropertyObjects.ExcitedState at 0x10c1cf010>,\n",
       " <MolecularPropertyObjects.ExcitedState at 0x10c1cef50>,\n",
       " <MolecularPropertyObjects.ExcitedState at 0x10c1cf160>,\n",
       " <MolecularPropertyObjects.ExcitedState at 0x10c1f1990>,\n",
       " <MolecularPropertyObjects.ExcitedState at 0x10c1f3bb0>,\n",
       " <MolecularPropertyObjects.ExcitedState at 0x10c1f3ca0>,\n",
       " <MolecularPropertyObjects.ExcitedState at 0x10c1f3c70>]"
      ]
     },
     "execution_count": 17,
     "metadata": {},
     "output_type": "execute_result"
    }
   ],
   "source": [
    "test.excited_states"
   ]
  },
  {
   "cell_type": "code",
   "execution_count": 18,
   "id": "7d0ba9f3",
   "metadata": {},
   "outputs": [
    {
     "name": "stdout",
     "output_type": "stream",
     "text": [
      "excitation_energy_eV\n",
      "excitation_energy_au\n",
      "symmetry\n",
      "spin\n",
      "from_states\n",
      "to_states\n",
      "coeffs\n",
      "trans_dip\n",
      "osc_strength\n"
     ]
    }
   ],
   "source": [
    "for i in test.excited_states[0].__dict__.keys():\n",
    "    print(i)"
   ]
  },
  {
   "cell_type": "code",
   "execution_count": 19,
   "id": "4bec3561",
   "metadata": {},
   "outputs": [
    {
     "data": {
      "text/plain": [
       "2.9149"
      ]
     },
     "execution_count": 19,
     "metadata": {},
     "output_type": "execute_result"
    }
   ],
   "source": [
    "test.excited_states[0].excitation_energy_eV"
   ]
  },
  {
   "cell_type": "code",
   "execution_count": 20,
   "id": "c0a51163",
   "metadata": {},
   "outputs": [],
   "source": [
    "test.excited_states[0].symmetry"
   ]
  },
  {
   "cell_type": "code",
   "execution_count": 21,
   "id": "d63f1875",
   "metadata": {},
   "outputs": [
    {
     "data": {
      "text/plain": [
       "'Triplet'"
      ]
     },
     "execution_count": 21,
     "metadata": {},
     "output_type": "execute_result"
    }
   ],
   "source": [
    "test.excited_states[0].spin"
   ]
  },
  {
   "cell_type": "code",
   "execution_count": 22,
   "id": "032939da",
   "metadata": {},
   "outputs": [
    {
     "data": {
      "text/plain": [
       "[17, 19]"
      ]
     },
     "execution_count": 22,
     "metadata": {},
     "output_type": "execute_result"
    }
   ],
   "source": [
    "test.excited_states[0].from_states"
   ]
  },
  {
   "cell_type": "code",
   "execution_count": 23,
   "id": "bf670e2f",
   "metadata": {},
   "outputs": [
    {
     "data": {
      "text/plain": [
       "[20, 20]"
      ]
     },
     "execution_count": 23,
     "metadata": {},
     "output_type": "execute_result"
    }
   ],
   "source": [
    "test.excited_states[0].to_states"
   ]
  },
  {
   "cell_type": "code",
   "execution_count": 24,
   "id": "9d65a288",
   "metadata": {},
   "outputs": [
    {
     "data": {
      "text/plain": [
       "[-0.2193, 0.9552]"
      ]
     },
     "execution_count": 24,
     "metadata": {},
     "output_type": "execute_result"
    }
   ],
   "source": [
    "test.excited_states[0].coeffs"
   ]
  },
  {
   "cell_type": "code",
   "execution_count": 25,
   "id": "9c711950",
   "metadata": {},
   "outputs": [
    {
     "data": {
      "text/plain": [
       "[-0.0, 0.0, -0.0367]"
      ]
     },
     "execution_count": 25,
     "metadata": {},
     "output_type": "execute_result"
    }
   ],
   "source": [
    "test.excited_states[1].trans_dip"
   ]
  },
  {
   "cell_type": "code",
   "execution_count": 26,
   "id": "438be517",
   "metadata": {},
   "outputs": [
    {
     "data": {
      "text/plain": [
       "0.0001198111"
      ]
     },
     "execution_count": 26,
     "metadata": {},
     "output_type": "execute_result"
    }
   ],
   "source": [
    "test.excited_states[1].osc_strength"
   ]
  },
  {
   "cell_type": "code",
   "execution_count": 27,
   "id": "405086ca",
   "metadata": {},
   "outputs": [],
   "source": [
    "test2 = ofile('QChem_TDDFT_GA_vee.out')\n",
    "read_tda = True\n",
    "test2.read_file(read_tda)"
   ]
  },
  {
   "cell_type": "code",
   "execution_count": 28,
   "id": "3588727d",
   "metadata": {},
   "outputs": [
    {
     "data": {
      "text/plain": [
       "3.0474"
      ]
     },
     "execution_count": 28,
     "metadata": {},
     "output_type": "execute_result"
    }
   ],
   "source": [
    "test2.excited_states[0].excitation_energy_eV"
   ]
  },
  {
   "cell_type": "code",
   "execution_count": 29,
   "id": "ef4cb0f9",
   "metadata": {},
   "outputs": [
    {
     "data": {
      "text/plain": [
       "[17, 19]"
      ]
     },
     "execution_count": 29,
     "metadata": {},
     "output_type": "execute_result"
    }
   ],
   "source": [
    "test2.excited_states[0].from_states"
   ]
  },
  {
   "cell_type": "code",
   "execution_count": null,
   "id": "ef18f2c1",
   "metadata": {},
   "outputs": [],
   "source": []
  }
 ],
 "metadata": {
  "kernelspec": {
   "display_name": "Python 3 (ipykernel)",
   "language": "python",
   "name": "python3"
  },
  "language_info": {
   "codemirror_mode": {
    "name": "ipython",
    "version": 3
   },
   "file_extension": ".py",
   "mimetype": "text/x-python",
   "name": "python",
   "nbconvert_exporter": "python",
   "pygments_lexer": "ipython3",
   "version": "3.10.5"
  }
 },
 "nbformat": 4,
 "nbformat_minor": 5
}
